{
 "cells": [
  {
   "cell_type": "markdown",
   "id": "resistant-characterization",
   "metadata": {},
   "source": [
    "# <center> Tintanic "
   ]
  },
  {
   "cell_type": "code",
   "execution_count": 54,
   "id": "hundred-dynamics",
   "metadata": {},
   "outputs": [],
   "source": [
    "import pandas as pd \n",
    "import numpy as np"
   ]
  },
  {
   "cell_type": "code",
   "execution_count": 55,
   "id": "recognized-allocation",
   "metadata": {},
   "outputs": [
    {
     "data": {
      "text/plain": [
       "Index(['Survived', 'Pclass', 'Name', 'Sex', 'Age', 'Siblings/Spouses Aboard',\n",
       "       'Parents/Children Aboard', 'Fare'],\n",
       "      dtype='object')"
      ]
     },
     "execution_count": 55,
     "metadata": {},
     "output_type": "execute_result"
    }
   ],
   "source": [
    "df = pd.read_csv(\"/Users/xuanthingo/Documents/3.Software/Titanic/Data/titanic.csv\")\n",
    "df.columns"
   ]
  },
  {
   "cell_type": "markdown",
   "id": "noble-lingerie",
   "metadata": {},
   "source": [
    "### Convert Data\n"
   ]
  },
  {
   "cell_type": "markdown",
   "id": "competent-horizontal",
   "metadata": {},
   "source": [
    "From the first part of this assignment we can see that there is no missing values in this data. Thus, we can go ahead and split them. "
   ]
  },
  {
   "cell_type": "code",
   "execution_count": 97,
   "id": "incomplete-gateway",
   "metadata": {},
   "outputs": [
    {
     "data": {
      "text/html": [
       "<div>\n",
       "<style scoped>\n",
       "    .dataframe tbody tr th:only-of-type {\n",
       "        vertical-align: middle;\n",
       "    }\n",
       "\n",
       "    .dataframe tbody tr th {\n",
       "        vertical-align: top;\n",
       "    }\n",
       "\n",
       "    .dataframe thead th {\n",
       "        text-align: right;\n",
       "    }\n",
       "</style>\n",
       "<table border=\"1\" class=\"dataframe\">\n",
       "  <thead>\n",
       "    <tr style=\"text-align: right;\">\n",
       "      <th></th>\n",
       "      <th>Pclass_2</th>\n",
       "      <th>Pclass_3</th>\n",
       "      <th>Sex_female</th>\n",
       "      <th>Sex_male</th>\n",
       "      <th>Age_nor</th>\n",
       "      <th>Fare_nor</th>\n",
       "      <th>Siblings/Spouses Aboard</th>\n",
       "      <th>Parents/Children Aboard</th>\n",
       "      <th>Survived</th>\n",
       "    </tr>\n",
       "  </thead>\n",
       "  <tbody>\n",
       "    <tr>\n",
       "      <th>0</th>\n",
       "      <td>0</td>\n",
       "      <td>1</td>\n",
       "      <td>0</td>\n",
       "      <td>1</td>\n",
       "      <td>0.271174</td>\n",
       "      <td>0.014151</td>\n",
       "      <td>1</td>\n",
       "      <td>0</td>\n",
       "      <td>0</td>\n",
       "    </tr>\n",
       "    <tr>\n",
       "      <th>1</th>\n",
       "      <td>0</td>\n",
       "      <td>0</td>\n",
       "      <td>1</td>\n",
       "      <td>0</td>\n",
       "      <td>0.472229</td>\n",
       "      <td>0.139136</td>\n",
       "      <td>1</td>\n",
       "      <td>0</td>\n",
       "      <td>1</td>\n",
       "    </tr>\n",
       "    <tr>\n",
       "      <th>2</th>\n",
       "      <td>0</td>\n",
       "      <td>1</td>\n",
       "      <td>1</td>\n",
       "      <td>0</td>\n",
       "      <td>0.321438</td>\n",
       "      <td>0.015469</td>\n",
       "      <td>0</td>\n",
       "      <td>0</td>\n",
       "      <td>1</td>\n",
       "    </tr>\n",
       "    <tr>\n",
       "      <th>3</th>\n",
       "      <td>0</td>\n",
       "      <td>0</td>\n",
       "      <td>1</td>\n",
       "      <td>0</td>\n",
       "      <td>0.434531</td>\n",
       "      <td>0.103644</td>\n",
       "      <td>1</td>\n",
       "      <td>0</td>\n",
       "      <td>1</td>\n",
       "    </tr>\n",
       "    <tr>\n",
       "      <th>4</th>\n",
       "      <td>0</td>\n",
       "      <td>1</td>\n",
       "      <td>0</td>\n",
       "      <td>1</td>\n",
       "      <td>0.434531</td>\n",
       "      <td>0.015713</td>\n",
       "      <td>0</td>\n",
       "      <td>0</td>\n",
       "      <td>0</td>\n",
       "    </tr>\n",
       "    <tr>\n",
       "      <th>...</th>\n",
       "      <td>...</td>\n",
       "      <td>...</td>\n",
       "      <td>...</td>\n",
       "      <td>...</td>\n",
       "      <td>...</td>\n",
       "      <td>...</td>\n",
       "      <td>...</td>\n",
       "      <td>...</td>\n",
       "      <td>...</td>\n",
       "    </tr>\n",
       "    <tr>\n",
       "      <th>882</th>\n",
       "      <td>1</td>\n",
       "      <td>0</td>\n",
       "      <td>0</td>\n",
       "      <td>1</td>\n",
       "      <td>0.334004</td>\n",
       "      <td>0.025374</td>\n",
       "      <td>0</td>\n",
       "      <td>0</td>\n",
       "      <td>0</td>\n",
       "    </tr>\n",
       "    <tr>\n",
       "      <th>883</th>\n",
       "      <td>0</td>\n",
       "      <td>0</td>\n",
       "      <td>1</td>\n",
       "      <td>0</td>\n",
       "      <td>0.233476</td>\n",
       "      <td>0.058556</td>\n",
       "      <td>0</td>\n",
       "      <td>0</td>\n",
       "      <td>1</td>\n",
       "    </tr>\n",
       "    <tr>\n",
       "      <th>884</th>\n",
       "      <td>0</td>\n",
       "      <td>1</td>\n",
       "      <td>1</td>\n",
       "      <td>0</td>\n",
       "      <td>0.082684</td>\n",
       "      <td>0.045771</td>\n",
       "      <td>1</td>\n",
       "      <td>2</td>\n",
       "      <td>0</td>\n",
       "    </tr>\n",
       "    <tr>\n",
       "      <th>885</th>\n",
       "      <td>0</td>\n",
       "      <td>0</td>\n",
       "      <td>0</td>\n",
       "      <td>1</td>\n",
       "      <td>0.321438</td>\n",
       "      <td>0.058556</td>\n",
       "      <td>0</td>\n",
       "      <td>0</td>\n",
       "      <td>1</td>\n",
       "    </tr>\n",
       "    <tr>\n",
       "      <th>886</th>\n",
       "      <td>0</td>\n",
       "      <td>1</td>\n",
       "      <td>0</td>\n",
       "      <td>1</td>\n",
       "      <td>0.396833</td>\n",
       "      <td>0.015127</td>\n",
       "      <td>0</td>\n",
       "      <td>0</td>\n",
       "      <td>0</td>\n",
       "    </tr>\n",
       "  </tbody>\n",
       "</table>\n",
       "<p>887 rows × 9 columns</p>\n",
       "</div>"
      ],
      "text/plain": [
       "     Pclass_2  Pclass_3  Sex_female  Sex_male   Age_nor  Fare_nor  \\\n",
       "0           0         1           0         1  0.271174  0.014151   \n",
       "1           0         0           1         0  0.472229  0.139136   \n",
       "2           0         1           1         0  0.321438  0.015469   \n",
       "3           0         0           1         0  0.434531  0.103644   \n",
       "4           0         1           0         1  0.434531  0.015713   \n",
       "..        ...       ...         ...       ...       ...       ...   \n",
       "882         1         0           0         1  0.334004  0.025374   \n",
       "883         0         0           1         0  0.233476  0.058556   \n",
       "884         0         1           1         0  0.082684  0.045771   \n",
       "885         0         0           0         1  0.321438  0.058556   \n",
       "886         0         1           0         1  0.396833  0.015127   \n",
       "\n",
       "     Siblings/Spouses Aboard  Parents/Children Aboard  Survived  \n",
       "0                          1                        0         0  \n",
       "1                          1                        0         1  \n",
       "2                          0                        0         1  \n",
       "3                          1                        0         1  \n",
       "4                          0                        0         0  \n",
       "..                       ...                      ...       ...  \n",
       "882                        0                        0         0  \n",
       "883                        0                        0         1  \n",
       "884                        1                        2         0  \n",
       "885                        0                        0         1  \n",
       "886                        0                        0         0  \n",
       "\n",
       "[887 rows x 9 columns]"
      ]
     },
     "execution_count": 97,
     "metadata": {},
     "output_type": "execute_result"
    }
   ],
   "source": [
    "from sklearn.preprocessing import StandardScaler, MinMaxScaler\n",
    "\n",
    "\n",
    "#Categorical variables: Pclass, Sex\n",
    "dummy_vars = pd.get_dummies(df, columns = ['Pclass', 'Sex'])\n",
    "\n",
    "#Scale numerical values: Age, Fare\n",
    "scaler = MinMaxScaler()\n",
    "dummy_vars['Age_nor'] = scaler.fit_transform(dummy_vars[['Age']])\n",
    "dummy_vars['Fare_nor'] =  scaler.fit_transform(dummy_vars[['Fare']])\n",
    "\n",
    "#Combine new df\n",
    "df_new = dummy_vars[[\"Pclass_2\", \"Pclass_3\" , \"Sex_female\", \"Sex_male\",  \"Age_nor\",  \"Fare_nor\", \n",
    "                     'Siblings/Spouses Aboard', 'Parents/Children Aboard', \"Survived\"]]\n",
    "df_new"
   ]
  },
  {
   "cell_type": "markdown",
   "id": "extensive-circuit",
   "metadata": {},
   "source": [
    "### Plit data"
   ]
  },
  {
   "cell_type": "code",
   "execution_count": 98,
   "id": "accepted-husband",
   "metadata": {},
   "outputs": [],
   "source": [
    "from sklearn.model_selection import train_test_split"
   ]
  },
  {
   "cell_type": "code",
   "execution_count": 99,
   "id": "given-poverty",
   "metadata": {},
   "outputs": [],
   "source": [
    "df_train, df_test = train_test_split(df_new, test_size=0.30, random_state=42)"
   ]
  },
  {
   "cell_type": "code",
   "execution_count": 100,
   "id": "national-medication",
   "metadata": {},
   "outputs": [],
   "source": [
    "X_train = df_train.drop('Survived', axis = 1)\n",
    "y_train = df_train.Survived\n",
    "X_test = df_test.drop('Survived', axis = 1)\n",
    "y_test = df_test.Survived"
   ]
  },
  {
   "cell_type": "markdown",
   "id": "piano-pressing",
   "metadata": {},
   "source": [
    "### Models"
   ]
  },
  {
   "cell_type": "code",
   "execution_count": 101,
   "id": "aware-fields",
   "metadata": {},
   "outputs": [],
   "source": [
    "from sklearn.model_selection import cross_val_score\n",
    "from sklearn.tree import DecisionTreeClassifier\n",
    "from sklearn.linear_model import LogisticRegression\n",
    "from sklearn.neighbors import KNeighborsClassifier\n",
    "from sklearn.naive_bayes import GaussianNB"
   ]
  },
  {
   "cell_type": "code",
   "execution_count": 102,
   "id": "executive-graph",
   "metadata": {},
   "outputs": [
    {
     "data": {
      "text/html": [
       "<div>\n",
       "<style scoped>\n",
       "    .dataframe tbody tr th:only-of-type {\n",
       "        vertical-align: middle;\n",
       "    }\n",
       "\n",
       "    .dataframe tbody tr th {\n",
       "        vertical-align: top;\n",
       "    }\n",
       "\n",
       "    .dataframe thead th {\n",
       "        text-align: right;\n",
       "    }\n",
       "</style>\n",
       "<table border=\"1\" class=\"dataframe\">\n",
       "  <thead>\n",
       "    <tr style=\"text-align: right;\">\n",
       "      <th></th>\n",
       "      <th>mean_accuracy</th>\n",
       "      <th>model</th>\n",
       "    </tr>\n",
       "  </thead>\n",
       "  <tbody>\n",
       "    <tr>\n",
       "      <th>1</th>\n",
       "      <td>0.816129</td>\n",
       "      <td>LogisticRegression()</td>\n",
       "    </tr>\n",
       "    <tr>\n",
       "      <th>2</th>\n",
       "      <td>0.808065</td>\n",
       "      <td>KNeighborsClassifier()</td>\n",
       "    </tr>\n",
       "    <tr>\n",
       "      <th>3</th>\n",
       "      <td>0.806452</td>\n",
       "      <td>GaussianNB()</td>\n",
       "    </tr>\n",
       "    <tr>\n",
       "      <th>0</th>\n",
       "      <td>0.803226</td>\n",
       "      <td>DecisionTreeClassifier()</td>\n",
       "    </tr>\n",
       "  </tbody>\n",
       "</table>\n",
       "</div>"
      ],
      "text/plain": [
       "   mean_accuracy                     model\n",
       "1       0.816129      LogisticRegression()\n",
       "2       0.808065    KNeighborsClassifier()\n",
       "3       0.806452              GaussianNB()\n",
       "0       0.803226  DecisionTreeClassifier()"
      ]
     },
     "execution_count": 102,
     "metadata": {},
     "output_type": "execute_result"
    }
   ],
   "source": [
    "#checking with 4 different models \n",
    "models = [DecisionTreeClassifier(), LogisticRegression(),  KNeighborsClassifier(), GaussianNB() ]\n",
    "\n",
    "#store results in a table\n",
    "model_table = pd.DataFrame()\n",
    "\n",
    "for model in models:\n",
    "    name = model\n",
    "    mean_cross_acc = np.mean(cross_val_score(model, X_train, y_train, cv=10)) #use Cross Validation to have better result\n",
    "    model_table = model_table.append({ \"mean_accuracy\":mean_cross_acc, \"model\": name,}, ignore_index=True)\n",
    "    \n",
    "model_table = model_table.sort_values(by=\"mean_accuracy\", ascending = False )    \n",
    "model_table "
   ]
  },
  {
   "cell_type": "code",
   "execution_count": null,
   "id": "innocent-weight",
   "metadata": {},
   "outputs": [],
   "source": []
  }
 ],
 "metadata": {
  "kernelspec": {
   "display_name": "Python 3",
   "language": "python",
   "name": "python3"
  },
  "language_info": {
   "codemirror_mode": {
    "name": "ipython",
    "version": 3
   },
   "file_extension": ".py",
   "mimetype": "text/x-python",
   "name": "python",
   "nbconvert_exporter": "python",
   "pygments_lexer": "ipython3",
   "version": "3.8.2"
  }
 },
 "nbformat": 4,
 "nbformat_minor": 5
}
